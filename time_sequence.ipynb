{
 "cells": [
  {
   "cell_type": "code",
   "execution_count": 4,
   "source": [
    "import numpy as np\n",
    "import h5py\n",
    "import pandas as pd\n",
    "import matplotlib.pyplot as plt\n",
    "from scipy.optimize import minimize"
   ],
   "outputs": [],
   "metadata": {}
  },
  {
   "cell_type": "code",
   "execution_count": 38,
   "source": [
    "# TODO: 是否应该把本程序中的函数作为class实现？"
   ],
   "outputs": [],
   "metadata": {}
  },
  {
   "cell_type": "code",
   "execution_count": 37,
   "source": [
    "# 判断依据\n",
    "# 发光持续时间（光强曲线下降率？若干时间间隔中的光子计数？）\n",
    "# 切伦科夫光？ 前10ns的光子信息\n",
    "# 傅里叶分析？"
   ],
   "outputs": [],
   "metadata": {}
  },
  {
   "cell_type": "code",
   "execution_count": 35,
   "source": [
    "# 数据读入（完整读入约半分钟）\n",
    "# 开头大写对应有多个项目的列表（一个三维坐标认为只有一个项目）\n",
    "\n",
    "# train.h5中的PEGuess数据过于诡异\n",
    "# 采用'PETruth'中的光子发生数据作为依据\n",
    "with h5py.File('data/train.h5', 'r') as ipt:\n",
    "    Wave = ipt['Waveform'][...]\n",
    "    PE_truth = ipt['PETruth'][...]\n",
    "    Par_truth = ipt['ParticleTruth'][...]"
   ],
   "outputs": [],
   "metadata": {}
  },
  {
   "cell_type": "code",
   "execution_count": 20,
   "source": [
    "# PMT_position： (30, 3)的numpy数组，对应各个探测器位置\n",
    "# radius: 探测器半径\n",
    " \n",
    "PMT_position = pd.read_csv('data/PMT.csv').to_numpy()[:, 1:4]\n",
    "radius = min(np.sqrt((PMT_position ** 2).sum(axis=1)))"
   ],
   "outputs": [],
   "metadata": {}
  },
  {
   "cell_type": "code",
   "execution_count": 22,
   "source": [
    "# TODO：光速，是否应该采用液闪中光速？以及液闪折射率是否1.5？\n",
    "\n",
    "c0 = 299792458e-6 / 1.5"
   ],
   "outputs": [],
   "metadata": {}
  },
  {
   "cell_type": "code",
   "execution_count": 24,
   "source": [
    "def read_event(eve):\n",
    "    '''\n",
    "    读入指定事件的相关数据(全部读入至全局变量中)\n",
    "        input:\n",
    "            eve             事件的id\n",
    "        output:\n",
    "            PE_eve          该事件中的所有PE信息\n",
    "            Counts_eve      每个探测器接受到的光子数，(30,)的numpy数组\n",
    "            Prob0_eve       对探测器接受光子数归一化的结果，(30,)的numpy数组\n",
    "    '''\n",
    "    global PE_eve, Counts_eve, Prob0_eve\n",
    "    PE_eve = PE_truth[PE_truth['EventID'] == eve]\n",
    "    Counts_eve = np.bincount(PE_eve['ChannelID'] * 1, minlength=30)\n",
    "    Prob0_eve = Counts_eve / Counts_eve.sum()"
   ],
   "outputs": [],
   "metadata": {}
  },
  {
   "cell_type": "code",
   "execution_count": 36,
   "source": [
    "def cal_position_score(_position):\n",
    "    '''\n",
    "    为了反溯光子源位置，需要对猜测的可能位置打分\n",
    "        为了使用minimize，以低分表示好结果\n",
    "        算法：\n",
    "            由于切伦科夫相对闪烁光为小量，而闪烁光近似各向同性\n",
    "            认为探测器上的光子数与至光源的距离满足平方反比关系。\n",
    "            目前采用的方法是最大似然估计\n",
    "            TODO: 其它可行的方法有待尝试，如TraceDistance, Fidelity (或者直接机器学习)\n",
    "        input: \n",
    "            _position           (3,)numpy数组，依此对应x, y, z\n",
    "        output:\n",
    "            score               对应_position的分数，越低越好\n",
    "        \n",
    "    '''\n",
    "    global PMT_position, Prob0_eve, Counts_eve\n",
    "    distance2 = np.sum((PMT_position - _position) ** 2, axis=1)\n",
    "    Prob = 1 / distance2\n",
    "    Prob /= Prob.sum()\n",
    "    prob_log = (np.log(Prob) * Counts_eve).sum()\n",
    "\n",
    "    return -prob_log\n",
    "\n",
    "# 约束条件： 光源不能超出球的范围\n",
    "cons = ({'type': 'ineq', 'fun': lambda x: radius ** 2 - sum(x ** 2)})\n",
    "\n",
    "def cal_position():\n",
    "    '''\n",
    "    计算光源位置\n",
    "        input:\n",
    "            请在调用此函数前使用 read_event() 函数\n",
    "            完成全局变量 Prob0_eve, Counts_eve 的准备\n",
    "            并完成 PMT_position 的读入\n",
    "        output:\n",
    "            (pos:np.arr, flag:bool)         返回二元组\n",
    "            pos                             计算得到的位置\n",
    "            flag                            是否运算成功   \n",
    "    '''\n",
    "    pos0 = np.array([0, 0, 0])\n",
    "    res = minimize(cal_position_score, pos0, method='SLSQP', constraints=cons)\n",
    "    return (res.x, res.success)"
   ],
   "outputs": [],
   "metadata": {}
  },
  {
   "cell_type": "code",
   "execution_count": 39,
   "source": [
    "def cal_PE_time(eve=-1):\n",
    "    '''\n",
    "    计算eve事件中光源发出每个光子的真实时间,\n",
    "        存至全局变量 PE_time (不排序，使得其仍与PE_truth对应)\n",
    "        input:\n",
    "            eve         需要检测的事件编号，不输入则采用当前全局变量\n",
    "        output:\n",
    "            flag_pos    是否成功检验\n",
    "            PE_time     全局变量，一维numpy数组      \n",
    "    '''\n",
    "    global c0, PMT\n",
    "    global PE_time\n",
    "    if eve != -1:\n",
    "        read_event(eve)\n",
    "    (pos, flag_pos) = cal_position()\n",
    "    \n",
    "    Distance2 = np.sum((PMT_position - pos) ** 2, axis=1)\n",
    "    Distance = np.sqrt(Distance2)\n",
    "    Time_delay = Distance / c0\n",
    "\n",
    "    PE_time = PE_eve['PETime'] - Time_delay[PE_eve['ChannelID']]\n",
    "\n",
    "    return flag_pos\n"
   ],
   "outputs": [],
   "metadata": {}
  },
  {
   "cell_type": "code",
   "execution_count": 43,
   "source": [
    "# 代码使用样例\n",
    "if 0:\n",
    "    print(cal_PE_time(9))\n",
    "    print(PE_time)"
   ],
   "outputs": [],
   "metadata": {}
  },
  {
   "cell_type": "code",
   "execution_count": 45,
   "source": [
    "def cal_density(time, sigma=3):\n",
    "    '''\n",
    "    基于 PE_time 计算各个时刻的光子密度\n",
    "        采用高斯分布将光子的计数结果进行弥散（保证每个弥散的波包归一化）\n",
    "        PE_time 需要预先初始化\n",
    "    input:\n",
    "        time            一维numpy数组，表示若干需要查询的时刻值\n",
    "        sigma           波包的弥散程度，即高斯波包的标准差  \n",
    "    output:\n",
    "        density_time    一维numpy数组，每个对应时刻的光子强度\n",
    "\n",
    "    '''\n",
    "    global PE_time\n",
    "    return np.sum(np.exp(- ((np.expand_dims(time, 1) - PE_time) ** 2) / (2 * (sigma ** 2))) \\\n",
    "                  / (2 * np.pi * sigma), axis=1)"
   ],
   "outputs": [],
   "metadata": {}
  },
  {
   "cell_type": "code",
   "execution_count": 49,
   "source": [
    "level_rate = 1 / 10\n",
    "\n",
    "# 对应时间范围内发光强度变换的计算\n",
    "Time = np.arange(PE_eve['PETime'].min() - 50, PE_eve['PETime'].max() + 50, 1)\n",
    "Rate = cal_density(Time)\n",
    "\n",
    "rate_max = np.max(Rate)\n",
    "rate_level = rate_max * level_rate\n",
    "\n",
    "# 计算从最大值 max 降落至 max * level_rate 的用时\n",
    "# 以 >= 64或66为依据，有65%至67%的准确率\n",
    "id_max = np.where(Rate >= rate_max * 0.999)[0][0]\n",
    "characteristics_time = (Rate[id_max:] >= rate_level).sum()\n",
    "print(characteristics_time)"
   ],
   "outputs": [
    {
     "output_type": "stream",
     "name": "stdout",
     "text": [
      "69\n"
     ]
    }
   ],
   "metadata": {}
  },
  {
   "cell_type": "code",
   "execution_count": 51,
   "source": [
    "Rate_level = np.full_like(Time, rate_level, dtype=np.double)\n",
    "\n",
    "\n",
    "\n",
    "plt.plot(Time, Rate)\n",
    "plt.plot(Time, Rate_level)\n",
    "plt.show()"
   ],
   "outputs": [
    {
     "output_type": "display_data",
     "data": {
      "image/png": "[encoded data removed]",
      "text/plain": [
       "<Figure size 432x288 with 1 Axes>"
      ]
     },
     "metadata": {
      "needs_background": "light"
     }
    }
   ],
   "metadata": {}
  },
  {
   "cell_type": "code",
   "execution_count": null,
   "source": [],
   "outputs": [],
   "metadata": {}
  }
 ],
 "metadata": {
  "orig_nbformat": 4,
  "language_info": {
   "name": "python",
   "version": "3.8.10",
   "mimetype": "text/x-python",
   "codemirror_mode": {
    "name": "ipython",
    "version": 3
   },
   "pygments_lexer": "ipython3",
   "nbconvert_exporter": "python",
   "file_extension": ".py"
  },
  "kernelspec": {
   "name": "python3",
   "display_name": "Python 3.8.10 64-bit"
  },
  "interpreter": {
   "hash": "916dbcbb3f70747c44a77c7bcd40155683ae19c65e1c03b4aa3499c5328201f1"
  }
 },
 "nbformat": 4,
 "nbformat_minor": 2
}